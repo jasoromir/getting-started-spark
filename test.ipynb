{
    "cells": [
        {
            "cell_type": "markdown",
            "metadata": {
                "collapsed": true
            },
            "source": "# <center>Getting Started with PySpark</center>"
        },
        {
            "cell_type": "markdown",
            "metadata": {},
            "source": "## Introduction"
        },
        {
            "cell_type": "markdown",
            "metadata": {},
            "source": "Apache Spark is a fast and powerful framework that provides an API to perform massive distributed processing over resilient sets of data. The main abstraction Spark provides is a resilient distributed dataset (RDD), which is the fundamental and backbone data type of this engine. Spark SQL is Apache Spark's module for working with structured data and MLlib is Apache Spark's scalable machine learning library. Apache Spark is written in Scala programming language. To support Python with Spark, Apache Spark community released a tool, PySpark. PySpark has similar computation speed and power as Scala. PySpark is a parallel and distributed engine for running big data applications. Using PySpark, you can work with RDDs in Python programming language. \n\nThis tutorial discusses Big Data via PySpark, a Python package for spark programming. Spark's high level libraries such as SparkSQL, Mllib will be used to interact with two different datasets."
        },
        {
            "cell_type": "markdown",
            "metadata": {},
            "source": "## What is SparkContext?"
        },
        {
            "cell_type": "markdown",
            "metadata": {},
            "source": "Spark comes with interactive python shell in which PySpark is already installed in it. PySpark automatically creates a SparkContext for you in the PySpark Shell. SparkContext is an entry point into the world of Spark. An entry point is a way of connecting to Spark cluster. We can use SparkContext using **sc** variable. In the following examples, we retrieve SparkContext version and Python version of SparkContext."
        },
        {
            "cell_type": "code",
            "execution_count": 35,
            "metadata": {},
            "outputs": [
                {
                    "data": {
                        "text/plain": "'3.0.1'"
                    },
                    "execution_count": 35,
                    "metadata": {},
                    "output_type": "execute_result"
                }
            ],
            "source": "# to retrieve SparkContext version\nsc.version"
        },
        {
            "cell_type": "code",
            "execution_count": 36,
            "metadata": {},
            "outputs": [
                {
                    "data": {
                        "text/plain": "'3.7'"
                    },
                    "execution_count": 36,
                    "metadata": {},
                    "output_type": "execute_result"
                }
            ],
            "source": "# to retriece Python version of SparkContext\nsc.pythonVer"
        },
        {
            "cell_type": "markdown",
            "metadata": {},
            "source": "## Import Packages"
        },
        {
            "cell_type": "code",
            "execution_count": 37,
            "metadata": {},
            "outputs": [],
            "source": "import pandas as pd\nimport matplotlib.pyplot as plt\nplt.style.use(\"seaborn\")\nfrom math import sqrt\nfrom pyspark.mllib.clustering import KMeans"
        },
        {
            "cell_type": "markdown",
            "metadata": {},
            "source": "## Using map and filter methods with Lambda function in Python"
        },
        {
            "cell_type": "markdown",
            "metadata": {},
            "source": "Lambda functions are anonymous functions in Python. Anonymous functions do not bind to any name in runtime and it returns the functions without any name. They are usually used with map and filter methods. Lambda functions create functions to be called later. In the following example, we use lambda function with map and flter methods."
        },
        {
            "cell_type": "code",
            "execution_count": 3,
            "metadata": {},
            "outputs": [
                {
                    "data": {
                        "text/plain": "[1, 4, 9, 16, 25]"
                    },
                    "execution_count": 3,
                    "metadata": {},
                    "output_type": "execute_result"
                }
            ],
            "source": "my_list = [1,2,3,4,5]\nsquared_my_list = list(map(lambda x: x*x, my_list))\nsquared_my_list"
        },
        {
            "cell_type": "code",
            "execution_count": 4,
            "metadata": {},
            "outputs": [
                {
                    "data": {
                        "text/plain": "[1, 3, 5]"
                    },
                    "execution_count": 4,
                    "metadata": {},
                    "output_type": "execute_result"
                }
            ],
            "source": "filtered_my_list = list(filter(lambda x: (x%2 != 0), my_list))\nfiltered_my_list"
        },
        {
            "cell_type": "markdown",
            "metadata": {},
            "source": "## Creating RDD from Object"
        },
        {
            "cell_type": "markdown",
            "metadata": {},
            "source": "RDDs are data stacks distributed throughout cluster of computers. Each stack is calculated on different computers in the cluster. RDDs are the most basic data structure of Spark. We can create RDD by giving existing object like Python list to SparkContext's parallelize method. In the following example, we create a list with numbers, then we create a RDD from this list."
        },
        {
            "cell_type": "code",
            "execution_count": 5,
            "metadata": {},
            "outputs": [],
            "source": "numbers = list(range(0,100))"
        },
        {
            "cell_type": "code",
            "execution_count": 6,
            "metadata": {},
            "outputs": [],
            "source": "# load the numbers into PySpark\nnumbersRDD = sc.parallelize(numbers)"
        },
        {
            "cell_type": "code",
            "execution_count": 7,
            "metadata": {},
            "outputs": [
                {
                    "data": {
                        "text/plain": "pyspark.rdd.RDD"
                    },
                    "execution_count": 7,
                    "metadata": {},
                    "output_type": "execute_result"
                }
            ],
            "source": "type(numbersRDD)"
        },
        {
            "cell_type": "markdown",
            "metadata": {},
            "source": "## Transformations and Actions on RDD"
        },
        {
            "cell_type": "markdown",
            "metadata": {},
            "source": "Transformations and actions are two type of operations in Spark. Transformations create new RDDs. Actions performs computation on the RDDs. Map, filter, flatmap and union are basic RDD transformations. Collect, take, first and count are basic RDD actions. In the following example, we create rdd named numRDD from list and then using map transformation we create a new rdd named cubeRDD from numRDD. Finally, we use collect action to return a list that contains all of the elements in this RDD."
        },
        {
            "cell_type": "code",
            "execution_count": 8,
            "metadata": {},
            "outputs": [
                {
                    "name": "stdout",
                    "output_type": "stream",
                    "text": "1\n8\n27\n64\n125\n"
                }
            ],
            "source": "# map() transformations\nnumRDD = sc.parallelize(my_list)\ncubeRDD = numRDD.map(lambda x: x**3)\nnumbers_all = cubeRDD.collect()\n\n[print(num) for num in numbers_all];"
        },
        {
            "cell_type": "markdown",
            "metadata": {},
            "source": "## Transformations and Actions on pair RDD"
        },
        {
            "cell_type": "markdown",
            "metadata": {},
            "source": "Pair RDD is a special type of RDD to work with datasets with key/value pairs. All regular transformations work on pair RDD. In the following example, we create pair RDD with 4 tuple with two numbers. In each tuple, the first number is key and the second number is value. Then, we apply reduceByKey transformation to pair RDD. ReduceByKey tranformation combine values with the same key. Therefore, this transformation adds the values of tuples with the same key."
        },
        {
            "cell_type": "code",
            "execution_count": 9,
            "metadata": {},
            "outputs": [
                {
                    "name": "stdout",
                    "output_type": "stream",
                    "text": "(4, 5)\n(1, 2)\n(3, 10)\n"
                }
            ],
            "source": "# create pairRdd with key and value pairs\npairRdd = sc.parallelize([(1,2), (3,4), (3,6), (4,5)])\n\npairRdd_Reduced = pairRdd.reduceByKey(lambda x, y: x+y)\n\n[print(num) for num in pairRdd_Reduced.collect()];"
        },
        {
            "cell_type": "markdown",
            "metadata": {},
            "source": "We can sort keys of tuples using sortByKey transformation like in the following example."
        },
        {
            "cell_type": "code",
            "execution_count": 10,
            "metadata": {},
            "outputs": [
                {
                    "name": "stdout",
                    "output_type": "stream",
                    "text": "(1, 2)\n(3, 10)\n(4, 5)\n"
                }
            ],
            "source": "pairRdd_Reduced_Sort = pairRdd_Reduced.sortByKey(ascending=True)\n\n[print(num) for num in pairRdd_Reduced_Sort.collect()];"
        },
        {
            "cell_type": "markdown",
            "metadata": {},
            "source": "We can count number of tuples with the same key. In the following example, we see (3,2) because there are two tuple with key 3 in pairRdd."
        },
        {
            "cell_type": "code",
            "execution_count": 11,
            "metadata": {},
            "outputs": [],
            "source": "total = pairRdd.countByKey()"
        },
        {
            "cell_type": "code",
            "execution_count": 12,
            "metadata": {},
            "outputs": [
                {
                    "data": {
                        "text/plain": "dict_items([(1, 1), (3, 2), (4, 1)])"
                    },
                    "execution_count": 12,
                    "metadata": {},
                    "output_type": "execute_result"
                }
            ],
            "source": "total.items()"
        },
        {
            "cell_type": "code",
            "execution_count": 13,
            "metadata": {},
            "outputs": [
                {
                    "name": "stdout",
                    "output_type": "stream",
                    "text": "key 1 has 1 counts\nkey 3 has 2 counts\nkey 4 has 1 counts\n"
                }
            ],
            "source": "[print(\"key\", k, \"has\", v, \"counts\") for k,v in total.items()];"
        },
        {
            "cell_type": "markdown",
            "metadata": {},
            "source": "## What is SparkSession?"
        },
        {
            "cell_type": "markdown",
            "metadata": {},
            "source": "SparkContext is the main entry point for creating RDDs while SparkSession provides a single point of entry to interact with Spark Dataframes. SparkSession is used to create DataFrame, register DataFrames, execute SQL queries. We can access SparkSession in PySpark using spark variable.\nIn the following examples, we retrieve SparkSession version and other informations about it."
        },
        {
            "cell_type": "code",
            "execution_count": 38,
            "metadata": {},
            "outputs": [
                {
                    "data": {
                        "text/html": "\n            <div>\n                <p><b>SparkSession - hive</b></p>\n                \n        <div>\n            <p><b>SparkContext</b></p>\n\n            <p><a href=\"http://172.30.163.15:4040\">Spark UI</a></p>\n\n            <dl>\n              <dt>Version</dt>\n                <dd><code>v3.0.1</code></dd>\n              <dt>Master</dt>\n                <dd><code>spark://jkg-deployment-38e29ee0-1a0b-499e-838a-318524fbef9c-7c78bdbskf7:7077</code></dd>\n              <dt>AppName</dt>\n                <dd><code>pyspark-shell</code></dd>\n            </dl>\n        </div>\n        \n            </div>\n        ",
                        "text/plain": "<pyspark.sql.session.SparkSession at 0x7fab0c072c10>"
                    },
                    "execution_count": 38,
                    "metadata": {},
                    "output_type": "execute_result"
                }
            ],
            "source": "spark"
        },
        {
            "cell_type": "markdown",
            "metadata": {},
            "source": "## Creating PySpark DataFrame from RDD"
        },
        {
            "cell_type": "markdown",
            "metadata": {},
            "source": "Spark SQL which is a Spark module for structured data processing provides a programming abstraction called DataFrames and can also act as a distributed SQL query engine. In the following example, we create rdd from list then we create PySpark dataframe using SparkSession's createDataFrame method. When we look at the type of dataframe, we can see pyspark.sql.dataframe as an output. Furthermore, we can use show method to print out the dataframe."
        },
        {
            "cell_type": "code",
            "execution_count": 15,
            "metadata": {},
            "outputs": [
                {
                    "data": {
                        "text/plain": "pyspark.sql.dataframe.DataFrame"
                    },
                    "execution_count": 15,
                    "metadata": {},
                    "output_type": "execute_result"
                }
            ],
            "source": "# Create a PySpark Dataframe from rdd\nsample_list = [(\"Mona\", 23), (\"Lisa\", 29), ('Leonardo',37), ('Piero',41)]\nrdd = sc.parallelize(sample_list)\ndf_names = spark.createDataFrame(rdd, schema=['Name', 'Age'])\ntype(df_names)"
        },
        {
            "cell_type": "code",
            "execution_count": 16,
            "metadata": {},
            "outputs": [
                {
                    "name": "stdout",
                    "output_type": "stream",
                    "text": "+--------+---+\n|    Name|Age|\n+--------+---+\n|    Mona| 23|\n|    Lisa| 29|\n|Leonardo| 37|\n|   Piero| 41|\n+--------+---+\n\n"
                }
            ],
            "source": "df_names.show()"
        },
        {
            "cell_type": "markdown",
            "metadata": {},
            "source": "## Add Datasets"
        },
        {
            "cell_type": "markdown",
            "metadata": {},
            "source": "You can delete df_data_1.take(5) part and then copy cos.url('file_name', 'bucket_name') above it then assign cos.url('file_name', 'bucket_name') to path_people variable and comment out this variable. cos.url('file_name', 'bucket_name') is path to your file you can access the file by using this path."
        },
        {
            "cell_type": "code",
            "execution_count": 41,
            "metadata": {},
            "outputs": [],
            "source": "# The code was removed by Watson Studio for sharing."
        },
        {
            "cell_type": "markdown",
            "metadata": {},
            "source": "You can also add 5000_points.txt dataset by applying same procedure but click insert to code then click insert credentials then write \"file\" and \"bucket\" values inside \"path_5000 = cos.url('file_name', 'bucket_name')\" expression and comment out path_5000."
        },
        {
            "cell_type": "code",
            "execution_count": 57,
            "metadata": {},
            "outputs": [],
            "source": "# The code was removed by Watson Studio for sharing."
        },
        {
            "cell_type": "markdown",
            "metadata": {},
            "source": "## Create PySpark DataFrame from external file"
        },
        {
            "cell_type": "markdown",
            "metadata": {},
            "source": "We can create PySpark DataFrame by using SparkSession's read.csv method. To do this, we should give path of csv file as an argument to the method. Show action prints first 20 rows of DataFrame. Count action prints number of rows in DataFrame. Columns attribute prints the list of columns in DataFrame. PrintSchema action prints the types of columns in the Dataframe and it gives information about whether there is null values in columns or not."
        },
        {
            "cell_type": "code",
            "execution_count": 42,
            "metadata": {},
            "outputs": [],
            "source": "df_people = spark.read.csv(path_people, header=True, inferSchema=True)"
        },
        {
            "cell_type": "code",
            "execution_count": 43,
            "metadata": {},
            "outputs": [
                {
                    "name": "stdout",
                    "output_type": "stream",
                    "text": "+---+---------+-----------------+------+-------------+\n|_c0|person_id|             name|   sex|date of birth|\n+---+---------+-----------------+------+-------------+\n|  0|      100|   Penelope Lewis|female|   1990-08-31|\n|  1|      101|    David Anthony|  male|   1971-10-14|\n|  2|      102|        Ida Shipp|female|   1962-05-24|\n|  3|      103|     Joanna Moore|female|   2017-03-10|\n|  4|      104|   Lisandra Ortiz|female|   2020-08-05|\n|  5|      105|    David Simmons|  male|   1999-12-30|\n|  6|      106|    Edward Hudson|  male|   1983-05-09|\n|  7|      107|     Albert Jones|  male|   1990-09-13|\n|  8|      108| Leonard Cavender|  male|   1958-08-08|\n|  9|      109|   Everett Vadala|  male|   2005-05-24|\n| 10|      110| Freddie Claridge|  male|   2002-05-07|\n| 11|      111|Annabelle Rosseau|female|   1989-07-13|\n| 12|      112|    Eulah Emanuel|female|   1976-01-19|\n| 13|      113|       Shaun Love|  male|   1970-05-26|\n| 14|      114|Alejandro Brennan|  male|   1980-12-22|\n| 15|      115|Robert Mcreynolds|  male|   1973-12-27|\n| 16|      116|   Carla Spickard|female|   1985-06-13|\n| 17|      117|Florence Eberhart|female|   2024-06-01|\n| 18|      118|     Tina Gaskins|female|   1966-12-05|\n| 19|      119| Florence Mulhern|female|   1959-05-31|\n+---+---------+-----------------+------+-------------+\nonly showing top 20 rows\n\n"
                }
            ],
            "source": "df_people.show()"
        },
        {
            "cell_type": "code",
            "execution_count": 24,
            "metadata": {},
            "outputs": [
                {
                    "data": {
                        "text/plain": "100000"
                    },
                    "execution_count": 24,
                    "metadata": {},
                    "output_type": "execute_result"
                }
            ],
            "source": "df_people.count()"
        },
        {
            "cell_type": "code",
            "execution_count": 21,
            "metadata": {},
            "outputs": [
                {
                    "data": {
                        "text/plain": "['_c0', 'person_id', 'name', 'sex', 'date of birth']"
                    },
                    "execution_count": 21,
                    "metadata": {},
                    "output_type": "execute_result"
                }
            ],
            "source": "df_people.columns"
        },
        {
            "cell_type": "code",
            "execution_count": 22,
            "metadata": {},
            "outputs": [
                {
                    "name": "stdout",
                    "output_type": "stream",
                    "text": "root\n |-- _c0: integer (nullable = true)\n |-- person_id: integer (nullable = true)\n |-- name: string (nullable = true)\n |-- sex: string (nullable = true)\n |-- date of birth: string (nullable = true)\n\n"
                }
            ],
            "source": "df_people.printSchema()"
        },
        {
            "cell_type": "markdown",
            "metadata": {},
            "source": "We can use select method to select some columns of DataFrame. If we give argument to show method, it prints out rows as number of argument. In the following example it prints out 10 rows. dropDuplicates method removes the duplicate rows of a DataFrame. We can use count action to see how many rows are dropped."
        },
        {
            "cell_type": "code",
            "execution_count": 23,
            "metadata": {},
            "outputs": [],
            "source": "df_people_sub = df_people.select('name', \"sex\", 'date of birth')"
        },
        {
            "cell_type": "code",
            "execution_count": 24,
            "metadata": {},
            "outputs": [
                {
                    "name": "stdout",
                    "output_type": "stream",
                    "text": "+----------------+------+-------------+\n|            name|   sex|date of birth|\n+----------------+------+-------------+\n|  Penelope Lewis|female|   1990-08-31|\n|   David Anthony|  male|   1971-10-14|\n|       Ida Shipp|female|   1962-05-24|\n|    Joanna Moore|female|   2017-03-10|\n|  Lisandra Ortiz|female|   2020-08-05|\n|   David Simmons|  male|   1999-12-30|\n|   Edward Hudson|  male|   1983-05-09|\n|    Albert Jones|  male|   1990-09-13|\n|Leonard Cavender|  male|   1958-08-08|\n|  Everett Vadala|  male|   2005-05-24|\n+----------------+------+-------------+\nonly showing top 10 rows\n\n"
                }
            ],
            "source": "df_people_sub.show(10)"
        },
        {
            "cell_type": "code",
            "execution_count": 25,
            "metadata": {},
            "outputs": [],
            "source": "df_people_sub_nodup = df_people_sub.dropDuplicates()"
        },
        {
            "cell_type": "code",
            "execution_count": 30,
            "metadata": {},
            "outputs": [
                {
                    "name": "stdout",
                    "output_type": "stream",
                    "text": "Before removing duplicates: 100000\nAfter removing dublicates: 99998\n"
                }
            ],
            "source": "print(\"Before removing duplicates:\", df_people_sub.count())\nprint(\"After removing dublicates:\", df_people_sub_nodup.count())"
        },
        {
            "cell_type": "markdown",
            "metadata": {},
            "source": "We can filter out the rows based on a condition by using filter transformation as in the following example."
        },
        {
            "cell_type": "code",
            "execution_count": 26,
            "metadata": {},
            "outputs": [],
            "source": "df_people_female = df_people.filter(df_people.sex == \"female\")\ndf_people_male = df_people.filter(df_people.sex == \"male\")"
        },
        {
            "cell_type": "code",
            "execution_count": 27,
            "metadata": {},
            "outputs": [
                {
                    "data": {
                        "text/plain": "49014"
                    },
                    "execution_count": 27,
                    "metadata": {},
                    "output_type": "execute_result"
                }
            ],
            "source": "df_people_female.count()"
        },
        {
            "cell_type": "code",
            "execution_count": 28,
            "metadata": {},
            "outputs": [
                {
                    "name": "stdout",
                    "output_type": "stream",
                    "text": "+---+---------+-----------------+------+-------------+\n|_c0|person_id|             name|   sex|date of birth|\n+---+---------+-----------------+------+-------------+\n|  0|      100|   Penelope Lewis|female|   1990-08-31|\n|  2|      102|        Ida Shipp|female|   1962-05-24|\n|  3|      103|     Joanna Moore|female|   2017-03-10|\n|  4|      104|   Lisandra Ortiz|female|   2020-08-05|\n| 11|      111|Annabelle Rosseau|female|   1989-07-13|\n+---+---------+-----------------+------+-------------+\nonly showing top 5 rows\n\n"
                }
            ],
            "source": "df_people_female.show(5)"
        },
        {
            "cell_type": "markdown",
            "metadata": {},
            "source": "We can group columns based on their values by using groupby transformation as in the following example."
        },
        {
            "cell_type": "code",
            "execution_count": 29,
            "metadata": {},
            "outputs": [
                {
                    "name": "stdout",
                    "output_type": "stream",
                    "text": "+------+-----+\n|   sex|count|\n+------+-----+\n|  null| 1920|\n|female|49014|\n|  male|49066|\n+------+-----+\n\n"
                }
            ],
            "source": "df_people_sex = df_people.groupby(\"sex\")\ndf_people_sex.count().show()"
        },
        {
            "cell_type": "markdown",
            "metadata": {},
            "source": "We can sorts the DataFrame based on one or more columns by using orderBy transformation."
        },
        {
            "cell_type": "code",
            "execution_count": 30,
            "metadata": {},
            "outputs": [
                {
                    "name": "stdout",
                    "output_type": "stream",
                    "text": "+-----+---------+---------------+------+-------------+\n|  _c0|person_id|           name|   sex|date of birth|\n+-----+---------+---------------+------+-------------+\n|57359|    57459|   Sharon Perez|female|   1899-08-28|\n|62233|    62333|Martina Morison|female|   1901-04-21|\n|96318|    96418|   Lisa Garrett|female|   1901-05-09|\n+-----+---------+---------------+------+-------------+\nonly showing top 3 rows\n\n"
                }
            ],
            "source": "df_people.orderBy(\"date of birth\").show(3)"
        },
        {
            "cell_type": "markdown",
            "metadata": {},
            "source": "We can rename a column in DataFrame by using withColumnRenamed transformation."
        },
        {
            "cell_type": "code",
            "execution_count": 45,
            "metadata": {},
            "outputs": [
                {
                    "name": "stdout",
                    "output_type": "stream",
                    "text": "+---+---------+--------------+------+----------+\n|_c0|person_id|          name|   sex|     birth|\n+---+---------+--------------+------+----------+\n|  0|      100|Penelope Lewis|female|1990-08-31|\n|  1|      101| David Anthony|  male|1971-10-14|\n|  2|      102|     Ida Shipp|female|1962-05-24|\n+---+---------+--------------+------+----------+\nonly showing top 3 rows\n\n"
                }
            ],
            "source": "df_people = df_people.withColumnRenamed(\"date of birth\", \"birth\")\ndf_people.show(3)"
        },
        {
            "cell_type": "markdown",
            "metadata": {},
            "source": "## Using SQL queries with DataFrames by using Spark SQL module"
        },
        {
            "cell_type": "markdown",
            "metadata": {},
            "source": "We can also use SQL queries to achieve the same things with DataFrames. Firstly, we should create temporary table by using createOrReplaceTempView method. We should give the name of temporary table as an argument to the method. Then, we can give any query we want to execute to SparkSession's sql method as an argument. Look at the following example."
        },
        {
            "cell_type": "code",
            "execution_count": 46,
            "metadata": {},
            "outputs": [
                {
                    "name": "stdout",
                    "output_type": "stream",
                    "text": "+---------------+----------+\n|           name|     birth|\n+---------------+----------+\n|   Tyler Walton|1903-07-14|\n|  Daniel Naiman|1903-11-07|\n|   John Merritt|1906-11-04|\n|   Roger Watkin|1907-12-08|\n|     Tim Makris|1909-07-11|\n|    Jeremy Jost|1910-04-14|\n|  Fredrick Nass|1911-01-12|\n|     Shaun King|1911-03-27|\n|Mitchell Martin|1911-07-06|\n|   Daniel Rutan|1911-08-09|\n+---------------+----------+\nonly showing top 10 rows\n\n"
                }
            ],
            "source": "df_people.createOrReplaceTempView(\"people\")\nquery='SELECT name, birth from people where sex==\"male\" order by birth'\ndf_people_names = spark.sql(query)\ndf_people_names.show(10)"
        },
        {
            "cell_type": "markdown",
            "metadata": {},
            "source": "## Create RDD from external file"
        },
        {
            "cell_type": "markdown",
            "metadata": {},
            "source": "The second and mostly used way to create RDD is from external dataset. To do this, we can use SparkContext's textFile method. In the following example, we use 5000_points.txt dataset. To do this, we use path to dataset as an argument to textFile method."
        },
        {
            "cell_type": "code",
            "execution_count": 58,
            "metadata": {},
            "outputs": [],
            "source": "# load the 5000_points dataset into a rdd named clusterRDD\nclusterRDD = sc.textFile(path_5000)"
        },
        {
            "cell_type": "markdown",
            "metadata": {},
            "source": "Default number of partition of rdd is two. We can see that using getNumPartitions method. If we want to increase number of partition, we can give minPartitions argument to textFile method."
        },
        {
            "cell_type": "code",
            "execution_count": 59,
            "metadata": {},
            "outputs": [
                {
                    "data": {
                        "text/plain": "2"
                    },
                    "execution_count": 59,
                    "metadata": {},
                    "output_type": "execute_result"
                }
            ],
            "source": "clusterRDD.getNumPartitions()"
        },
        {
            "cell_type": "code",
            "execution_count": 60,
            "metadata": {},
            "outputs": [],
            "source": "clusterRDD = sc.textFile(path_5000,  minPartitions = 5)"
        },
        {
            "cell_type": "code",
            "execution_count": 61,
            "metadata": {},
            "outputs": [
                {
                    "data": {
                        "text/plain": "5"
                    },
                    "execution_count": 61,
                    "metadata": {},
                    "output_type": "execute_result"
                }
            ],
            "source": "clusterRDD.getNumPartitions()"
        },
        {
            "cell_type": "code",
            "execution_count": 62,
            "metadata": {},
            "outputs": [
                {
                    "data": {
                        "text/plain": "['664159\\t550946',\n '665845\\t557965',\n '597173\\t575538',\n '618600\\t551446',\n '635690\\t608046']"
                    },
                    "execution_count": 62,
                    "metadata": {},
                    "output_type": "execute_result"
                }
            ],
            "source": "clusterRDD.take(5)"
        },
        {
            "cell_type": "markdown",
            "metadata": {},
            "source": "We can transform this rdd by splitting the lines based on the tab."
        },
        {
            "cell_type": "code",
            "execution_count": 63,
            "metadata": {},
            "outputs": [],
            "source": "rdd_split = clusterRDD.map(lambda x: x.split(\"\\t\"))"
        },
        {
            "cell_type": "code",
            "execution_count": 64,
            "metadata": {},
            "outputs": [
                {
                    "data": {
                        "text/plain": "[['664159', '550946'],\n ['665845', '557965'],\n ['597173', '575538'],\n ['618600', '551446'],\n ['635690', '608046']]"
                    },
                    "execution_count": 64,
                    "metadata": {},
                    "output_type": "execute_result"
                }
            ],
            "source": "rdd_split.take(5)"
        },
        {
            "cell_type": "markdown",
            "metadata": {},
            "source": "We can also further transform the splitted RDD to create a list of integers for the two columns."
        },
        {
            "cell_type": "code",
            "execution_count": 65,
            "metadata": {},
            "outputs": [],
            "source": "rdd_split_int = rdd_split.map(lambda x: [int(x[0]), int(x[1])])"
        },
        {
            "cell_type": "code",
            "execution_count": 66,
            "metadata": {},
            "outputs": [
                {
                    "data": {
                        "text/plain": "[[664159, 550946],\n [665845, 557965],\n [597173, 575538],\n [618600, 551446],\n [635690, 608046]]"
                    },
                    "execution_count": 66,
                    "metadata": {},
                    "output_type": "execute_result"
                }
            ],
            "source": "rdd_split_int.take(5)"
        },
        {
            "cell_type": "markdown",
            "metadata": {},
            "source": "## Machine Learning with PySpark MLlib"
        },
        {
            "cell_type": "markdown",
            "metadata": {},
            "source": "PySpark MLlib is the Apache Spark's scalable machine learning library in Python consisting of common learning algorithms and utilities. We use Kmeans algorithm of MLlib library to cluster data in 5000_points.txt dataset. First, we should define error method to calculate distance from every point to center of its clusters which the points belong to."
        },
        {
            "cell_type": "code",
            "execution_count": 67,
            "metadata": {},
            "outputs": [],
            "source": "def error(point):\n    center = model.centers[model.predict(point)]\n    return sqrt(sum([x**2 for x in (point - center)]))"
        },
        {
            "cell_type": "markdown",
            "metadata": {},
            "source": "We train the model with 4 different number of clusters from 13 to 16 and then calculate the error for all of them. As you see in the output, 16 clusters give minimum error. We retrain the model with the number of cluster with the smallest error. We then use clusterCenters attribute to see the center of all clusters."
        },
        {
            "cell_type": "code",
            "execution_count": 68,
            "metadata": {},
            "outputs": [
                {
                    "name": "stdout",
                    "output_type": "stream",
                    "text": "The cluster 13 has Sum of Squared Error 251839908.5434932\nThe cluster 14 has Sum of Squared Error 211629260.76746103\nThe cluster 15 has Sum of Squared Error 169394691.52639443\nThe cluster 16 has Sum of Squared Error 167648251.99743205\n\ncluster 16\nSSE: 167648251.99743205\n"
                }
            ],
            "source": "# Train the model with clusters from 13 to 16 and compute SSE\ntemp = 0\ncluster = 0\nfor clst in range(13, 17):\n    model = KMeans.train(rdd_split_int, clst, seed=1)\n    SSE = rdd_split_int.map(lambda point: error(point)).reduce(lambda x, y: x + y) \n    while temp > SSE or temp == 0:\n        temp = SSE\n        cluster = clst\n    print(\"The cluster\", clst, \"has Sum of Squared Error\", SSE)\n\n\nprint(\"\\ncluster\", cluster)\nprint(\"SSE:\", temp)\n\n\n# Train the model again with the best k \nmodel = KMeans.train(rdd_split_int, k=cluster, seed=1)\n\n# Get cluster centers\ncluster_centers = model.clusterCenters"
        },
        {
            "cell_type": "markdown",
            "metadata": {},
            "source": "We can again use SparkSession's createDataFrame method to create DataFrame from rdd. We must convert PySpark DataFrame to Pandas DataFrame in order to visualise data. To do this, we can use toPandas method. We create another Pandas DataFrame from cluster centers list. Then, using matplotlib's scatter method, we can make plot for clusters and their centers."
        },
        {
            "cell_type": "code",
            "execution_count": 69,
            "metadata": {},
            "outputs": [
                {
                    "data": {
                        "image/png": "[encoded data removed]",
                        "text/plain": "<Figure size 432x288 with 1 Axes>"
                    },
                    "metadata": {
                        "needs_background": "light"
                    },
                    "output_type": "display_data"
                }
            ],
            "source": "rdd_split_int_df = spark.createDataFrame(rdd_split_int, schema=[\"col1\", \"col2\"])\n\nrdd_split_int_df_pandas = rdd_split_int_df.toPandas()\n\ncluster_centers_pandas = pd.DataFrame(cluster_centers, columns=[\"col1\", \"col2\"])\n\nplt.scatter(rdd_split_int_df_pandas[\"col1\"], rdd_split_int_df_pandas[\"col2\"])\nplt.scatter(cluster_centers_pandas[\"col1\"], cluster_centers_pandas[\"col2\"], color=\"red\", marker=\"x\")\nplt.show()"
        },
        {
            "cell_type": "markdown",
            "metadata": {},
            "source": "## Conclusion"
        },
        {
            "cell_type": "markdown",
            "metadata": {},
            "source": "This tutorial discusses Big Data via PySpark, a Python package for spark programming. In this tutorial, I explained SparkContext, using map and filter methods with Lambda functions in Python, creating rdd from object and external file, transformations and actions on rdd and pair rdd, SparkSession, creating PySpark Dataframe from rdd and external file, using sql queries with Dataframes by using Spark SQL module and finally, machine learning with PySpark MLlib library."
        },
        {
            "cell_type": "code",
            "execution_count": null,
            "metadata": {},
            "outputs": [],
            "source": ""
        }
    ],
    "metadata": {
        "kernelspec": {
            "display_name": "Python 3.7 with Spark",
            "language": "python3",
            "name": "python37"
        },
        "language_info": {
            "codemirror_mode": {
                "name": "ipython",
                "version": 3
            },
            "file_extension": ".py",
            "mimetype": "text/x-python",
            "name": "python",
            "nbconvert_exporter": "python",
            "pygments_lexer": "ipython3",
            "version": "3.7.9"
        }
    },
    "nbformat": 4,
    "nbformat_minor": 1
}